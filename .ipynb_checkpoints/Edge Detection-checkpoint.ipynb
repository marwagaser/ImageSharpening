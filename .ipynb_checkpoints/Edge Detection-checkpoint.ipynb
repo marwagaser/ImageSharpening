{
 "cells": [
  {
   "cell_type": "code",
   "execution_count": null,
   "metadata": {},
   "outputs": [],
   "source": [
    "from PIL import Image\n",
    "import numpy as np\n",
    "import math\n",
    "import matplotlib.pyplot as plt\n",
    "def open_image():\n",
    "    val = input(\"Enter your image path: \")  \n",
    "    image = Image.open(val)\n",
    "    imageArray = np.array(image)#return an array of the image\n",
    "    return imageArray"
   ]
  },
  {
   "cell_type": "code",
   "execution_count": null,
   "metadata": {},
   "outputs": [],
   "source": [
    "camManImage = open_image()\n",
    "convolved_camManImage = np.zeros((camManImage.shape[0],camManImage.shape[1]))\n",
    "for i in range (1,len(camManImage)-1):\n",
    "    for j in range (1,len(camManImage)-1):\n",
    "        sum=0\n",
    "        sum += (camManImage[i][j]*8)\n",
    "        sum += (camManImage[i-1][j]*-1)\n",
    "        sum += (camManImage[i][j-1]*-1)\n",
    "        sum += (camManImage[i-1][j-1]*-1)\n",
    "        sum += (camManImage[i-1][j+1]*-1)\n",
    "        sum += (camManImage[i+1][j-1]*-1)\n",
    "        sum += (camManImage[i+1][j]*-1)\n",
    "        sum += (camManImage[i][j+1]*-1)\n",
    "        sum += (camManImage[i+1][j+1]*-1)\n",
    "        convolved_camManImage[i][j]=sum\n",
    "        \n",
    "        "
   ]
  },
  {
   "cell_type": "code",
   "execution_count": null,
   "metadata": {},
   "outputs": [],
   "source": []
  }
 ],
 "metadata": {
  "kernelspec": {
   "display_name": "Python 3",
   "language": "python",
   "name": "python3"
  },
  "language_info": {
   "codemirror_mode": {
    "name": "ipython",
    "version": 3
   },
   "file_extension": ".py",
   "mimetype": "text/x-python",
   "name": "python",
   "nbconvert_exporter": "python",
   "pygments_lexer": "ipython3",
   "version": "3.7.3"
  }
 },
 "nbformat": 4,
 "nbformat_minor": 2
}
